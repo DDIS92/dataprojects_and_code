{
 "cells": [
  {
   "cell_type": "code",
   "execution_count": 1,
   "metadata": {},
   "outputs": [],
   "source": [
    "# Importing required set of packages.\n",
    "\n",
    "import requests\n",
    "import bs4\n",
    "from bs4 import BeautifulSoup\n",
    "import urllib3\n",
    "import pandas as pd\n",
    "import requests\n",
    "import csv\n",
    "import time\n",
    "from datetime import datetime as dt, date as d, time as t\n",
    "import selenium\n",
    "from selenium import webdriver"
   ]
  },
  {
   "cell_type": "code",
   "execution_count": 4,
   "metadata": {},
   "outputs": [],
   "source": [
    "#city parameters. can replace with the respective city and page no (if applicable)\n",
    "city = 'bangalore'\n",
    "landmark = 'Bangalore'\n",
    "pageno = 1\n",
    "intent = \"sale\" #rent for rent, pg fpr pg/hostel"
   ]
  },
  {
   "cell_type": "code",
   "execution_count": 5,
   "metadata": {},
   "outputs": [
    {
     "data": {
      "text/plain": [
       "'16-12-2019 19-56-37'"
      ]
     },
     "execution_count": 5,
     "metadata": {},
     "output_type": "execute_result"
    }
   ],
   "source": [
    "# Getting the current date and time\n",
    "now = dt.now()\n",
    "current_time = now.strftime(\"%d-%m-%Y %H-%M-%S\")\n",
    "current_time"
   ]
  },
  {
   "cell_type": "code",
   "execution_count": 6,
   "metadata": {},
   "outputs": [],
   "source": [
    "url3 = 'https://www.magicbricks.com/property-for-sale/residential-real-estate?proptype=Multistorey-Apartment,Builder-Floor-Apartment,Penthouse,Studio-Apartment,Residential-House,Villa,Residential-Plot&cityName='+landmark\n",
    "response3 = requests.get(url3)\n",
    "soup3 = BeautifulSoup(response3.content, \"html.parser\")"
   ]
  },
  {
   "cell_type": "code",
   "execution_count": 7,
   "metadata": {
    "scrolled": true
   },
   "outputs": [
    {
     "name": "stdout",
     "output_type": "stream",
     "text": [
      "https://www.magicbricks.com/propertyDetails/4-BHK-5400-Sq-ft-Multistorey-Apartment-FOR-Sale-Thanisandra-in-Bangalore&id=4d423339393830343137?sem=Y'\n",
      "https://www.magicbricks.com/propertyDetails/2-BHK-1168-Sq-ft-Multistorey-Apartment-FOR-Sale-Thanisandra-Main-Road-in-Bangalore&id=4d423339393830333837'\n",
      "https://www.magicbricks.com/propertyDetails/3-BHK-1785-Sq-ft-Multistorey-Apartment-FOR-Sale-Yelahanka-in-Bangalore&id=4d423435383932333839'\n",
      "https://www.magicbricks.com/propertyDetails/2-BHK-1160-Sq-ft-Multistorey-Apartment-FOR-Sale-Banashankari-in-Bangalore&id=4d423434373139393835'\n",
      "https://www.magicbricks.com/propertyDetails/4-BHK-2391-Sq-ft-Villa-FOR-Sale-Horamavu-in-Bangalore&id=4d423434393736323435'\n",
      "https://www.magicbricks.com/propertyDetails/3-BHK-1341-Sq-ft-Multistorey-Apartment-FOR-Sale-Budigere-Cross-in-Bangalore&id=4d423335383732363935'\n",
      "https://www.magicbricks.com/propertyDetails/3-BHK-1447-Sq-ft-Multistorey-Apartment-FOR-Sale-Whitefield-in-Bangalore&id=4d423337323134383639'\n",
      "https://www.magicbricks.com/propertyDetails/2-BHK-1330-Sq-ft-Multistorey-Apartment-FOR-Sale-Hoodi-Circle-in-Bangalore&id=4d423331303734393233'\n",
      "https://www.magicbricks.com/propertyDetails/3-BHK-1390-Sq-ft-Multistorey-Apartment-FOR-Sale-Uttarahalli-in-Bangalore&id=4d423435383835323935'\n",
      "https://www.magicbricks.com/propertyDetails/2-BHK-1076-Sq-ft-Multistorey-Apartment-FOR-Sale-Nagarbhavi-in-Bangalore&id=4d423335343736383237'\n",
      "https://www.magicbricks.com/propertyDetails/3-BHK-1510-Sq-ft-Multistorey-Apartment-FOR-Sale-Devanahalli-in-Bangalore&id=4d423435383634343633'\n",
      "https://www.magicbricks.com/propertyDetails/2-BHK-1217-Sq-ft-Multistorey-Apartment-FOR-Sale-Electronic-City-in-Bangalore&id=4d423339363437363337'\n",
      "https://www.magicbricks.com/propertyDetails/1500-Sq-ft-Residential-Plot-FOR-Sale-Jigani-in-Bangalore&id=4d423238393337323135'\n",
      "https://www.magicbricks.com/propertyDetails/2-BHK-1055-Sq-ft-Multistorey-Apartment-FOR-Sale-Hennur-Main-Road-in-Bangalore&id=4d423430383034363331'\n",
      "https://www.magicbricks.com/propertyDetails/3-BHK-1785-Sq-ft-Multistorey-Apartment-FOR-Sale-Bellandur-in-Bangalore&id=4d423336363031323931'\n",
      "https://www.magicbricks.com/propertyDetails/3-BHK-1622-Sq-ft-Multistorey-Apartment-FOR-Sale-Sarjapur-Road-in-Bangalore&id=4d423436303435303333'\n",
      "https://www.magicbricks.com/propertyDetails/2-BHK-1290-Sq-ft-Multistorey-Apartment-FOR-Sale-Panathur-in-Bangalore&id=4d423433393333333239'\n",
      "https://www.magicbricks.com/propertyDetails/2-BHK-1386-Sq-ft-Multistorey-Apartment-FOR-Sale-Sarjapur-Road-in-Bangalore&id=4d423432303236323939'\n",
      "https://www.magicbricks.com/propertyDetails/1-BHK-704-Sq-ft-Multistorey-Apartment-FOR-Sale-Sarjapur-Road-in-Bangalore&id=4d423435353931373739'\n",
      "https://www.magicbricks.com/propertyDetails/3-BHK-2640-Sq-ft-Multistorey-Apartment-FOR-Sale-Old-Madras-Road-in-Bangalore&id=4d423431393139323231'\n",
      "https://www.magicbricks.com/propertyDetails/3-BHK-1591-Sq-ft-Multistorey-Apartment-FOR-Sale-Marathahalli-Sarjapur-Outer-Ring-Road-in-Bangalore&id=4d423435383435333331'\n",
      "https://www.magicbricks.com/propertyDetails/2325-Sq-ft-Residential-Plot-FOR-Sale-Devanahalli-in-Bangalore&id=4d423436333633323039'\n",
      "https://www.magicbricks.com/propertyDetails/2-BHK-1265-Sq-ft-Multistorey-Apartment-FOR-Sale-Electronics-City-Phase-1-in-Bangalore&id=4d423336363637363935'\n",
      "https://www.magicbricks.com/propertyDetails/4-BHK-7358-Sq-ft-Multistorey-Apartment-FOR-Sale-Hebbal-in-Bangalore&id=4d423433383233323231'\n",
      "https://www.magicbricks.com/propertyDetails/4-BHK-3129-Sq-ft-Multistorey-Apartment-FOR-Sale-Old-Airport-Road-in-Bangalore&id=4d423434353236363731'\n",
      "https://www.magicbricks.com/propertyDetails/2-BHK-837-Sq-ft-Multistorey-Apartment-FOR-Sale-Whitefield-in-Bangalore&id=4d423435353136313537'\n",
      "https://www.magicbricks.com/propertyDetails/2-BHK-1159-Sq-ft-Multistorey-Apartment-FOR-Sale-Sarjapur-Road-in-Bangalore&id=4d423432343036333031'\n",
      "https://www.magicbricks.com/propertyDetails/2-BHK-1160-Sq-ft-Multistorey-Apartment-FOR-Sale-Kengeri-in-Bangalore&id=4d423334333535373235'\n"
     ]
    }
   ],
   "source": [
    "# verifying the listing urls\n",
    "for url in soup3.find_all(['div','meta'],class_ = \"m-srp-card SRCard\"):\n",
    "    print(url[\"data-code\"][23:len(url[\"data-code\"])-18])"
   ]
  },
  {
   "cell_type": "code",
   "execution_count": 8,
   "metadata": {},
   "outputs": [
    {
     "data": {
      "text/plain": [
       "28"
      ]
     },
     "execution_count": 8,
     "metadata": {},
     "output_type": "execute_result"
    }
   ],
   "source": [
    "urlframe = []\n",
    "for url in soup3.find_all(['div','meta'],class_ = \"m-srp-card SRCard\"):\n",
    "    urlframe.append(url[\"data-code\"][23:len(url[\"data-code\"])-18])\n",
    "\n",
    "len(urlframe)"
   ]
  },
  {
   "cell_type": "code",
   "execution_count": 9,
   "metadata": {
    "scrolled": true
   },
   "outputs": [
    {
     "data": {
      "text/plain": [
       "['No/Rare Powercut',\n",
       " 'No/Rare Powercut',\n",
       " 'No/Rare Powercut',\n",
       " 'No/Rare Powercut',\n",
       " 'No/Rare Powercut',\n",
       " 'No/Rare Powercut',\n",
       " 'No/Rare Powercut',\n",
       " 'No/Rare Powercut',\n",
       " 'No/Rare Powercut',\n",
       " 'No/Rare Powercut',\n",
       " 'No/Rare Powercut',\n",
       " 'No/Rare Powercut',\n",
       " 'Celebrity Prime Eco Front',\n",
       " 'Freehold',\n",
       " '24 Hours Available',\n",
       " 'No/Rare Powercut',\n",
       " 'No/Rare Powercut',\n",
       " 'No/Rare Powercut',\n",
       " 'No/Rare Powercut',\n",
       " 'No/Rare Powercut',\n",
       " 'No/Rare Powercut',\n",
       " 'No/Rare Powercut',\n",
       " 'No/Rare Powercut',\n",
       " 'No/Rare Powercut',\n",
       " 'No/Rare Powercut',\n",
       " 'No/Rare Powercut',\n",
       " 'No/Rare Powercut']"
      ]
     },
     "execution_count": 9,
     "metadata": {},
     "output_type": "execute_result"
    }
   ],
   "source": [
    "# verifying that the beautiful soup logic works\n",
    "#for page in pagenolist:\n",
    " #   url3 = 'https://www.magicbricks.com/property-for-rent/residential-real-estate?cityName=Bangalore'\n",
    "  #  response3 = requests.get(url3)\n",
    "   # soup3 = BeautifulSoup(response3.content, \"html.parser\")\n",
    "    \n",
    "    #urlframe = []\n",
    "    #for url in soup3.find_all(['div','meta'],class_ = \"m-srp-card SRCard\"):\n",
    "     #   urlframe.append(url[\"data-code\"][23:len(url[\"data-code\"])-22])\n",
    "    \n",
    "    #counter = 0\n",
    "\n",
    "Final = []\n",
    "counter = 0\n",
    "for url_test in urlframe:\n",
    "    \n",
    "    #Final = []\n",
    "    \n",
    "        #if counter>0:\n",
    "         #   counter\n",
    "        #else\n",
    "    #counter = 0\n",
    "    \n",
    "    response_test = requests.get(url_test)\n",
    "    soup_test = BeautifulSoup(response_test.content, \"html.parser\")\n",
    "    \n",
    "    #for localrow1 in soup_test.find_all('div',class_='p_infoRow'):\n",
    "     #   Final.append(localrow1.find_all('div',class_='p_value'))\n",
    "        \n",
    "    # this is fine    \n",
    "    #for localrow1 in soup_test.find_all('li',class_ = 'aminitiesHide'):\n",
    "     #   Final.append(str(counter) + localrow1.text)\n",
    "    \n",
    "    for localrow1 in soup_test.find_all('div',class_='p_infoRow'):\n",
    "        for localrow2 in localrow1.find_all('div',class_='p_title'):\n",
    "            #Final.append(localrow2.text)\n",
    "            if localrow2.text == 'Status of Electricity':\n",
    "                for localrow3 in localrow1.find_all('div',class_='p_value'):\n",
    "                    Final.append(localrow3.text)\n",
    "            \n",
    "            #Final.append(localrow2.text)\n",
    "                    \n",
    "\n",
    "    \n",
    "    counter = counter + 1\n",
    "        \n",
    "Final"
   ]
  },
  {
   "cell_type": "code",
   "execution_count": 10,
   "metadata": {},
   "outputs": [
    {
     "data": {
      "text/plain": [
       "27"
      ]
     },
     "execution_count": 10,
     "metadata": {},
     "output_type": "execute_result"
    }
   ],
   "source": [
    "len(Final)"
   ]
  },
  {
   "cell_type": "code",
   "execution_count": null,
   "metadata": {},
   "outputs": [],
   "source": [
    "# since we were not able to iterate through pages (due to infinite scrolling) we used a combination of beautiful soup and selenium\n",
    "# the idea was to scroll down the page enough times to get a good no. of listings, then use beautiful soup to parse through each\n",
    "# of the urls.\n",
    "\n",
    "bsd = webdriver.Chrome()\n",
    "bsd.get('https://www.magicbricks.com/property-for-sale/residential-real-estate?proptype=Multistorey-Apartment,Builder-Floor-Apartment,Penthouse,Studio-Apartment,Residential-House,Villa,Residential-Plot&cityName=Bangalore')\n",
    "\n",
    "lp = bsd.execute_script(\"window.scrollTo(0,document.body.scrollHeight);var lenofPage = document.body.scrollHeight; return lenofPage;\")\n",
    "\n",
    "\n",
    "noofscrolls = range(10)\n",
    "\n",
    "#counter = 0\n",
    "for i in noofscrolls:\n",
    "    while (i<len(noofscrolls)):\n",
    "        lc = lp\n",
    "        #t.sleep(3)\n",
    "        #t.sleep(10)\n",
    "        lp = bsd.execute_script(\"window.scrollTo(0,document.body.scrollHeight);var lenofPage = document.body.scrollHeight; return lenofPage;\")\n",
    "        #if lc == lp:\n",
    "         #   break\n",
    "        #counter= counter+1"
   ]
  },
  {
   "cell_type": "code",
   "execution_count": null,
   "metadata": {},
   "outputs": [],
   "source": [
    "#response3 = requests.get(url3)\n",
    "#soup3 = BeautifulSoup(response3.content, \"html.parser\")\n",
    "\n",
    "source_data = bsd.page_source\n",
    "soup4 = BeautifulSoup(source_data,\"html.parser\")\n",
    "\n",
    "\n",
    "urlframe2 = []\n",
    "for url in soup4.find_all(['div','meta'],class_ = \"m-srp-card SRCard\"):\n",
    "    urlframe2.append(url[\"data-code\"][23:len(url[\"data-code\"])-18])\n",
    "    print(len(urlframe2))\n",
    "\n",
    "\n",
    "bsd.close()\n",
    "len(urlframe2)"
   ]
  },
  {
   "cell_type": "code",
   "execution_count": null,
   "metadata": {},
   "outputs": [],
   "source": [
    "urlframe2[0:49]"
   ]
  },
  {
   "cell_type": "code",
   "execution_count": null,
   "metadata": {},
   "outputs": [],
   "source": [
    "listofurls = pd.DataFrame(urlframe2)"
   ]
  },
  {
   "cell_type": "code",
   "execution_count": null,
   "metadata": {},
   "outputs": [],
   "source": [
    "listofurls.to_csv(\"urlframe_sel\"+str(current_time)+\".csv\", index=False, header=False)"
   ]
  },
  {
   "cell_type": "code",
   "execution_count": null,
   "metadata": {},
   "outputs": [],
   "source": [
    "print(len(listofurls),len(listofurls.drop_duplicates()))"
   ]
  },
  {
   "cell_type": "code",
   "execution_count": null,
   "metadata": {},
   "outputs": [],
   "source": []
  }
 ],
 "metadata": {
  "kernelspec": {
   "display_name": "Python 3",
   "language": "python",
   "name": "python3"
  },
  "language_info": {
   "codemirror_mode": {
    "name": "ipython",
    "version": 3
   },
   "file_extension": ".py",
   "mimetype": "text/x-python",
   "name": "python",
   "nbconvert_exporter": "python",
   "pygments_lexer": "ipython3",
   "version": "3.7.4"
  }
 },
 "nbformat": 4,
 "nbformat_minor": 2
}
